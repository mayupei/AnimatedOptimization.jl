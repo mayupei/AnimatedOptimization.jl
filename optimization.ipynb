{
 "cells": [
  {
   "cell_type": "markdown",
   "metadata": {},
   "source": [
    "[![](https://i.creativecommons.org/l/by-sa/4.0/88x31.png)](http://creativecommons.org/licenses/by-sa/4.0/)\n",
    "\n",
    "This work is licensed under a [Creative Commons Attribution-ShareAlike\n",
    "4.0 International\n",
    "License](http://creativecommons.org/licenses/by-sa/4.0/) \n",
    "\n",
    "### About this document {-}\n",
    "\n",
    "This document was created using Weave.jl. The code is available \n",
    "[on github](https://github.com/schrimpf/AnimatedOptimization.jl/). The same\n",
    "document generates both the [static webpage](https://schrimpf.github.io/AnimatedOptimization.jl/optimization/) \n",
    "and associated [jupyter notebook](https://schrimpf.github.io/AnimatedOptimization.jl/optimization.ipynb) ([or on nbviewer](https://nbviewer.jupyter.org/urls/schrimpf.github.io/AnimatedOptimization.jl/optimization.ipynb)).\n",
    "\n",
    "$$\n",
    "\\def\\indep{\\perp\\!\\!\\!\\perp}\n",
    "\\def\\Er{\\mathrm{E}}\n",
    "\\def\\R{\\mathbb{R}}\n",
    "\\def\\En{{\\mathbb{E}_n}}\n",
    "\\def\\Pr{\\mathrm{P}}\n",
    "\\newcommand{\\norm}[1]{\\left\\Vert {#1} \\right\\Vert}\n",
    "\\newcommand{\\abs}[1]{\\left\\vert {#1} \\right\\vert}\n",
    "\\DeclareMathOperator*{\\argmax}{arg\\,max}\n",
    "\\DeclareMathOperator*{\\argmin}{arg\\,min}\n",
    "\\def\\inprob{\\,{\\buildrel p \\over \\rightarrow}\\,} \n",
    "\\def\\indist{\\,{\\buildrel d \\over \\rightarrow}\\,} \n",
    "$$\n",
    "\n",
    "# Optimization Algorithms\n",
    "\n",
    "The goal of this notebook is to give you some familiarity with numeric\n",
    "optimization. \n",
    "\n",
    "Numeric optimization is important because many (most) models cannot be\n",
    "fully solved analytically. Numeric results can be used to complement\n",
    "analytic ones. Numeric optimization plays a huge role in econometrics. \n",
    "\n",
    "In these notes, we will focus on minimization problems following the\n",
    "convention in mathematics, engineering, and most numerical\n",
    "libraries. It is easy to convert between minimization and\n",
    "maximization, and we hope that this does not lead to any confusion.\n",
    "\n",
    "# Heuristic searches\n",
    "\n",
    "The simplest type of optimization algorithm are heuristic\n",
    "searches. Consider the problem: \n",
    "\n",
    "$$\n",
    "\\min_x f(x)\n",
    "$$\n",
    "\n",
    "with $f:\\R^n \\to \\R$. Heuristic search algorithms consist of \n",
    "\n",
    "1. Evaluate $f$ at a collection of points \n",
    "2. Generate a new candidate point, $x^{new}$. Replace a point\n",
    "   in the current collection with $x^{new}$ if $f(x^{new})$ is small enough. \n",
    "3. Stop when function value stops decreasing and/or collection of\n",
    "   points become too close together. \n",
    "   \n",
    "There are many variants of such algorithms with different ways of\n",
    "generating new points, deciding whether to accept the new point, and\n",
    "deciding when to stop.  Here is a simple implementation and animation\n",
    "of the above idea. In the code below, new points are drawn randomly\n",
    "from a normal distribution, and new points are accepted whenever\n",
    "$f(x^{new})$ is smaller than the worst existing function value."
   ]
  },
  {
   "cell_type": "code",
   "execution_count": 1,
   "metadata": {},
   "outputs": [
    {
     "name": "stderr",
     "output_type": "stream",
     "text": [
      "┌ Warning: Error requiring IJulia from Plots:\n",
      "│ MethodError: no method matching joinpath(::Nothing)\n",
      "│ Closest candidates are:\n",
      "│   joinpath(!Matched::AbstractString) at path.jl:244\n",
      "│   joinpath(!Matched::AbstractString, !Matched::AbstractString...) at path.jl:289\n",
      "│ Stacktrace:\n",
      "│  [1] _init_ijulia_plotting() at /home/paul/.julia/packages/Plots/jIs2V/src/ijulia.jl:7\n",
      "│  [2] top-level scope at /home/paul/.julia/packages/Plots/jIs2V/src/init.jl:75\n",
      "│  [3] eval at ./boot.jl:331 [inlined]\n",
      "│  [4] eval at /home/paul/.julia/packages/Plots/jIs2V/src/Plots.jl:1 [inlined]\n",
      "│  [5] (::Plots.var\"#277#310\")() at /home/paul/.julia/packages/Requires/vyVBT/src/require.jl:97\n",
      "│  [6] err(::Any, ::Module, ::String) at /home/paul/.julia/packages/Requires/vyVBT/src/require.jl:42\n",
      "│  [7] (::Plots.var\"#276#309\")() at /home/paul/.julia/packages/Requires/vyVBT/src/require.jl:96\n",
      "│  [8] withpath(::Any, ::String) at /home/paul/.julia/packages/Requires/vyVBT/src/require.jl:32\n",
      "│  [9] (::Plots.var\"#275#308\")() at /home/paul/.julia/packages/Requires/vyVBT/src/require.jl:95\n",
      "│  [10] listenpkg(::Any, ::Base.PkgId) at /home/paul/.julia/packages/Requires/vyVBT/src/require.jl:15\n",
      "│  [11] macro expansion at /home/paul/.julia/packages/Requires/vyVBT/src/require.jl:93 [inlined]\n",
      "│  [12] __init__() at /home/paul/.julia/packages/Plots/jIs2V/src/init.jl:73\n",
      "│  [13] _include_from_serialized(::String, ::Array{Any,1}) at ./loading.jl:697\n",
      "│  [14] _require_search_from_serialized(::Base.PkgId, ::String) at ./loading.jl:782\n",
      "│  [15] _require(::Base.PkgId) at ./loading.jl:1007\n",
      "│  [16] require(::Base.PkgId) at ./loading.jl:928\n",
      "│  [17] require(::Module, ::Symbol) at ./loading.jl:923\n",
      "│  [18] softscope_include_string(::Module, ::String, ::String) at /home/paul/.julia/packages/SoftGlobalScope/u4UzH/src/SoftGlobalScope.jl:65\n",
      "│  [19] execute_request(::ZMQ.Socket, ::IJulia.Msg) at /home/paul/.julia/packages/IJulia/tOM8L/src/execute_request.jl:67\n",
      "│  [20] #invokelatest#1 at ./essentials.jl:710 [inlined]\n",
      "│  [21] invokelatest at ./essentials.jl:709 [inlined]\n",
      "│  [22] eventloop(::ZMQ.Socket) at /home/paul/.julia/packages/IJulia/tOM8L/src/eventloop.jl:8\n",
      "│  [23] (::IJulia.var\"#15#18\")() at ./task.jl:356\n",
      "└ @ Requires /home/paul/.julia/packages/Requires/vyVBT/src/require.jl:44\n"
     ]
    }
   ],
   "source": [
    "markdown = try\n",
    "  \"md\" in keys(WEAVE_ARGS) && WEAVE_ARGS[\"md\"]\n",
    "catch\n",
    "  false\n",
    "end\n",
    "if markdown\n",
    "  ENV[\"GKSwstype\"]=\"nul\"\n",
    "end\n",
    "using Distributions, Plots"
   ]
  },
  {
   "cell_type": "code",
   "execution_count": 2,
   "metadata": {},
   "outputs": [
    {
     "name": "stderr",
     "output_type": "stream",
     "text": [
      "┌ Info: Precompiling AnimatedOptimization [8d08e35e-e281-4caf-a1aa-953c6bfa12f8]\n",
      "└ @ Base loading.jl:1278\n"
     ]
    }
   ],
   "source": [
    "try \n",
    "  using AnimatedOptimization\n",
    "catch\n",
    "  using Pkg\n",
    "  Pkg.add(url=\"https://github.com/schrimpf/AnimatedOptimization.jl\")\n",
    "  using AnimatedOptimization\n",
    "end"
   ]
  },
  {
   "cell_type": "code",
   "execution_count": 3,
   "metadata": {},
   "outputs": [],
   "source": [
    "function functiontext(functionname, filename; includedoc=true)\n",
    "  lines = readlines(filename)\n",
    "  fstart=findfirst(occursin.(Regex(\"function\\\\s+$(functionname)\"),lines))\n",
    "  fend  =fstart + findfirst(occursin.(r\"^end\",lines[(fstart+1):end]))  \n",
    "  if (includedoc && occursin(r\"^\\\"\\\"\\\"\",lines[fstart-1]) )\n",
    "    dend = fstart -1\n",
    "    dstart = dend - findfirst(occursin.(r\"^\\\"\\\"\\\"\", lines[(fstart-2):(-1):1]))\n",
    "  end\n",
    "  lines[dstart:fend]\n",
    "end\n",
    "\n",
    "function printfunc(functionname, srcfile; pkg=AnimatedOptimization)\n",
    "  filename=joinpath(dirname(Base.pathof(pkg)),srcfile)\n",
    "  println.(functiontext(functionname,filename))\n",
    "  return nothing\n",
    "end;"
   ]
  },
  {
   "cell_type": "code",
   "execution_count": 4,
   "metadata": {},
   "outputs": [
    {
     "data": {
      "text/plain": [
       "false"
      ]
     },
     "execution_count": 4,
     "metadata": {},
     "output_type": "execute_result"
    }
   ],
   "source": [
    "markdown && printfunc(\"minrandomsearch\",\"heuristic_optimizers.jl\")"
   ]
  },
  {
   "cell_type": "code",
   "execution_count": 5,
   "metadata": {},
   "outputs": [],
   "source": [
    "\"\"\"\n",
    "     banana(a,b)\n",
    "  \n",
    "  Returns the Rosenbrock function with parameters a, b.\n",
    "\"\"\"\n",
    "function banana(a,b)\n",
    "  x->(a-x[1])^2+b*(x[2]-x[1]^2)^2\n",
    "end\n",
    "f = banana(1.0,1.0)\n",
    "\n",
    "x0 = [-2.0, 3.0];"
   ]
  },
  {
   "cell_type": "code",
   "execution_count": 6,
   "metadata": {},
   "outputs": [
    {
     "name": "stderr",
     "output_type": "stream",
     "text": [
      "┌ Info: Saved animation to \n",
      "│   fn = /home/paul/.julia/dev/AnimatedOptimization/docs/build/randsearch.gif\n",
      "└ @ Plots /home/paul/.julia/packages/Plots/jIs2V/src/animation.jl:104\n"
     ]
    }
   ],
   "source": [
    "result = minrandomsearch(f, x0, 20, var0=0.1, vshrink=0.5, vtol=1e-3 )\n",
    "gif(result[5], \"randsearch.gif\", fps=5);"
   ]
  },
  {
   "cell_type": "markdown",
   "metadata": {},
   "source": [
    "![random search](randsearch.gif)\n",
    "\n",
    "There are many other heuristic search algorithms. A popular\n",
    "deterministic one is the Nelder-Mead simplex. Popular heuristic\n",
    "search algorithms that include some randomness include simulated\n",
    "annealing and particle swarm. Each of the three algorithms just\n",
    "mentioned are available in\n",
    "[Optim.jl](https://julianlsolvers.github.io/Optim.jl/stable/#algo/nelder_mead/). These\n",
    "heuristic searches have the advantage that they only function values\n",
    "(as opposed to also requiring gradients or hessians, see\n",
    "below). Some heuristic algorithms, like simulated annealing, can be\n",
    "shown to converge to a global (instead of local) minimum under\n",
    "appropriate assumptions. Compared to algorithms that use more\n",
    "information, heuristic algorithms tend to require many more function\n",
    "evaluations. \n",
    "\n",
    "# Gradient descent\n",
    "\n",
    "Gradient descent is an iterative algorithm to find a local minimum. As\n",
    "the name suggests, it consists of descending toward a minimum in the\n",
    "direction opposite the gradient. Each step, you start at some $x$ and\n",
    "compute $x_{new}$\n",
    "\n",
    "1. Given current $x$, compute $x_{new} = x - \\gamma Df_{x}$\n",
    "2. Adjust $\\gamma$ depending on whether $f(x_{new})<f(x)$\n",
    "3. Repeat until $\\norm{Df_{x}}$, $\\norm{x-x_{new}}$, and/or\n",
    "   $\\abs{f(x)-f(x_{new})}$ small."
   ]
  },
  {
   "cell_type": "code",
   "execution_count": 7,
   "metadata": {},
   "outputs": [],
   "source": [
    "using ForwardDiff, LinearAlgebra"
   ]
  },
  {
   "cell_type": "code",
   "execution_count": 8,
   "metadata": {},
   "outputs": [
    {
     "data": {
      "text/plain": [
       "false"
      ]
     },
     "execution_count": 8,
     "metadata": {},
     "output_type": "execute_result"
    }
   ],
   "source": [
    "markdown && printfunc(\"graddescent\",\"smooth_optimizers.jl\")"
   ]
  },
  {
   "cell_type": "code",
   "execution_count": 9,
   "metadata": {},
   "outputs": [
    {
     "name": "stderr",
     "output_type": "stream",
     "text": [
      "┌ Info: Saved animation to \n",
      "│   fn = /home/paul/.julia/dev/AnimatedOptimization/docs/build/graddescent.gif\n",
      "└ @ Plots /home/paul/.julia/packages/Plots/jIs2V/src/animation.jl:104\n"
     ]
    }
   ],
   "source": [
    "result = graddescent(f, x0)\n",
    "gif(result[5], \"graddescent.gif\", fps=10);"
   ]
  },
  {
   "cell_type": "markdown",
   "metadata": {},
   "source": [
    "![gradient descent](graddescent.gif)\n",
    "\n",
    "\n",
    "Although an appealing and intuitive idea, the above example\n",
    "illustrates that gradient descent can perform surprisingly poorly in\n",
    "some cases. Nonetheless, gradient descent is useful for some\n",
    "problems. Notably, (stochastic) gradient descent is used to fit neural\n",
    "networks, where the dimension of `x` is so large that computing the\n",
    "inverse hessian in (quasi) Newton's method is prohibitively time\n",
    "consuming. \n",
    "\n",
    "# Newton's method\n",
    "\n",
    "Newton's method and its variations are often the most efficient\n",
    "minimization algorithms. Newton's method updates $x$ by minimizing a\n",
    "second order approximation to $f$. Specifically:\n",
    "\n",
    "1. Given $x$ set $x_{new} = x - (D^2f_x)^{-1} Df_x$\n",
    "2. Repeat until $\\norm{Df_{x}}$, $\\norm{x-x_{new}}$, and/or\n",
    "   $\\abs{f(x)-f(x_{new})}$ small."
   ]
  },
  {
   "cell_type": "code",
   "execution_count": 10,
   "metadata": {},
   "outputs": [
    {
     "data": {
      "text/plain": [
       "false"
      ]
     },
     "execution_count": 10,
     "metadata": {},
     "output_type": "execute_result"
    }
   ],
   "source": [
    "markdown && printfunc(\"newton\",\"smooth_optimizers.jl\")"
   ]
  },
  {
   "cell_type": "code",
   "execution_count": 11,
   "metadata": {},
   "outputs": [
    {
     "name": "stderr",
     "output_type": "stream",
     "text": [
      "┌ Info: Saved animation to \n",
      "│   fn = /home/paul/.julia/dev/AnimatedOptimization/docs/build/newton.gif\n",
      "└ @ Plots /home/paul/.julia/packages/Plots/jIs2V/src/animation.jl:104\n"
     ]
    }
   ],
   "source": [
    "result = newton(f, x0)\n",
    "gif(result[5], \"newton.gif\", fps=5);"
   ]
  },
  {
   "cell_type": "markdown",
   "metadata": {},
   "source": [
    "![newton](newton.gif)\n",
    "\n",
    "\n",
    "Newton's method tends to take relatively few iterations to converge\n",
    "for well-behaved functions. It does have the disadvantage that hessian\n",
    "and its inverse can be time consuming to compute, especially when the\n",
    "dimension of $x$ is large. Newton's method can be unstable for\n",
    "functions that are not well approximated by their second\n",
    "expansion. This problem can be mitigated by combining Newton's method\n",
    "with a line search or trust region. \n",
    "\n",
    "## Line search\n",
    "\n",
    "Line searches consist of approximately minimizing $f$ along a given\n",
    "direction instead of updating $x$ with a fixed step size. For Newton's\n",
    "method, instead of setting $x_{new} = x - (D^2f_x)^{-1} Df_x$, set \n",
    "$x_{new} \\approx \\argmin_{\\delta} f(x - \\delta (D^2f_x)^{-1} Df_x)$  where\n",
    "$\\delta$ is a scalar. This one dimensional problem can be solved\n",
    "fairly quickly. Line search can also be combined with gradient\n",
    "descent. \n",
    "\n",
    "## Trust region\n",
    "\n",
    "Instead of setting \n",
    "$$\n",
    "x_{new} = x - (D^2f_x)^{-1} Df_x =\n",
    "\\argmin_{\\tilde{x}} f(x) + Df_x (\\tilde{x} - x) + \\frac{1}{2}\n",
    "(\\tilde{x}-x)^T Df_x (\\tilde{x} - x)\n",
    "$$\n",
    "to the unconstrained minimizer of a local second order approximation,\n",
    "trust region methods introduce an region near $x$ where the\n",
    "approximation is trusted, and set\n",
    "$$\n",
    "x_{new} = \\argmin_{\\tilde{x} \\in TR(x)} f(x) + Df_x (\\tilde{x} - x) + \\frac{1}{2}\n",
    "(\\tilde{x}-x)^T D^2 f_x (\\tilde{x} - x).\n",
    "$$\n",
    "Often $TR(x) = \\{\\tilde{x} : \\norm{x - \\tilde{x}} < r\\}$. The radius\n",
    "of the trust region is then increased or decreased depending on\n",
    "$f(x_{new})$. \n",
    "\n",
    "## Quasi-Newton \n",
    "\n",
    "Quasi-Newton methods (in particular the BFGS algorithm) are probably\n",
    "the most commonly used nonlinear optimization algorithm. Quasi-Newton\n",
    "methods are similar to Newton's method, except instead of evaluating\n",
    "the hessian directly, quasi-Newton methods build an approximation to\n",
    "the hessian from repeated evaluations of $Df_x$ at different $x$.\n",
    "\n",
    "Optim.jl contains all the algorithms mentioned above. [Their advice on\n",
    "choice of algorithm is worth\n",
    "following.](https://julianlsolvers.github.io/Optim.jl/stable/#user/algochoice/). \n",
    "\n",
    "## Details matter in practice\n",
    "\n",
    "In each of the algorithms above, we were somewhat cavalier with\n",
    "details like how to adjust step sizes and trust regions and what it\n",
    "means to approximately minimize during a line search. In practice\n",
    "these details can be quite important for how long an algorithm takes\n",
    "and whether it succeeds or fails. Different implementations of\n",
    "algorithms have different details. Often the details can be adjusted\n",
    "through some options. It can be worthwhile to try multiple\n",
    "implementations and options to get the best performance. \n",
    "\n",
    "\n",
    "# Constrained optimization\n",
    "\n",
    "Constrained optimization is a bit harder than unconstrained, but uses\n",
    "similar ideas. For simple bound constraints, like $x\\geq 0$ it is\n",
    "often easiest to simply transform to an unconstrained case by\n",
    "optimizing over $y = \\log(x)$ instead. \n",
    "\n",
    "For problems with equality constraints, one can apply Newton's method\n",
    "to the first order conditions. \n",
    "\n",
    "The difficult case is when there are inequality constraints. Just like\n",
    "when solving analytically, the difficulty is figuring out which\n",
    "constraints bind and which do not. \n",
    "For inequality constraints, we will consider problems written in the form:\n",
    "$$\n",
    "\\min_{x \\in \\R^n} f(x) \\text{ s.t. } c(x) \\geq 0 \n",
    "$$\n",
    "\n",
    "## Interior Point Methods\n",
    "\n",
    "Interior point methods circumvent the problem of figuring out which\n",
    "constraints bind by approaching the optimum from the interior of the\n",
    "feasible set. To do this, the interior point method applies Newton's\n",
    "method to a modified version of the first order condition. The\n",
    "unmodified first order conditions can be written\n",
    "$$\n",
    "\\begin{align*}\n",
    "0 = & Df_x - \\lambda^T Dc_x \\\\\n",
    "0 = & \\lambda_i c_i(x) \\\\\n",
    "\\lambda \\geq & 0 \\\\\n",
    "c(x) \\geq & 0\n",
    "\\end{align*}\n",
    "$$\n",
    "A difficulty with these conditions is that solving them can require\n",
    "guessing and checking which combinations of constraints bind and which\n",
    "do not. Interior point methods get around this problem by beginning\n",
    "with an interior $x$ and $\\lambda$ such that $\\lambda>0$ and\n",
    "$c(x)>0$. They are then updated by applying Newton's method to the\n",
    "equations\n",
    "$$\n",
    "\\begin{align*}\n",
    "0 = & Df_x - \\lambda^T Dc_x \\\\\n",
    "\\mu = & \\lambda_i c_i(x) \\\\\n",
    "\\end{align*}\n",
    "$$\n",
    "where there is now a $\\mu$ in place of $0$ in the second equation. $x$\n",
    "and $\\lambda$ are updated according to Newton's method for this system\n",
    "of equations. In particular, \n",
    "$x_{new} = x + \\Delta_x$ and $\\lambda_{new}= \\lambda + \\Delta_\\lambda$, where\n",
    "$$\n",
    "\\begin{align*}\n",
    "\\begin{pmatrix} - ( Df_x - \\lambda^T Dc_x) \\\\\n",
    "\\mu 1_m -  diag(c(x)) \\lambda \n",
    "\\end{pmatrix} = \\begin{pmatrix} \n",
    " D^2 f_x -  D^2 (\\lambda c)_x  & -Dc_x^T \\\\\n",
    " \\lambda Dc_x & diag(c(x)) \n",
    "\\end{pmatrix} \\begin{pmatrix}\n",
    "\\Delta_x \\\\\n",
    "\\Delta_\\lambda\n",
    "\\end{pmatrix}\n",
    "\\end{align*}\n",
    "$$\n",
    "Over iterations $\\mu$ is gradually decreased toward\n",
    "$0$. Here is one simple implementation."
   ]
  },
  {
   "cell_type": "code",
   "execution_count": 12,
   "metadata": {},
   "outputs": [
    {
     "data": {
      "text/plain": [
       "false"
      ]
     },
     "execution_count": 12,
     "metadata": {},
     "output_type": "execute_result"
    }
   ],
   "source": [
    "markdown && printfunc(\"interiorpoint\",\"constrained_optimizers.jl\")"
   ]
  },
  {
   "cell_type": "code",
   "execution_count": 13,
   "metadata": {},
   "outputs": [
    {
     "data": {
      "text/plain": [
       "constraint (generic function with 1 method)"
      ]
     },
     "execution_count": 13,
     "metadata": {},
     "output_type": "execute_result"
    }
   ],
   "source": [
    "f = banana(1.0,1.0)\n",
    "x0 = [3.0, 0.0]\n",
    "function constraint(x)\n",
    "  [x[1] + x[2] - 2.5]\n",
    "end"
   ]
  },
  {
   "cell_type": "code",
   "execution_count": 14,
   "metadata": {},
   "outputs": [
    {
     "name": "stderr",
     "output_type": "stream",
     "text": [
      "┌ Info: Saved animation to \n",
      "│   fn = /home/paul/.julia/dev/AnimatedOptimization/docs/build/ip.gif\n",
      "└ @ Plots /home/paul/.julia/packages/Plots/jIs2V/src/animation.jl:104\n"
     ]
    }
   ],
   "source": [
    "result = interiorpoint(f, x0, constraint; maxiter=100)\n",
    "gif(result[5], \"ip.gif\", fps=5);"
   ]
  },
  {
   "cell_type": "markdown",
   "metadata": {},
   "source": [
    "![interior point](ip.gif)\n",
    "\n",
    "\n",
    "Optim.jl includes an interior point method. IPOPT is another popular\n",
    "implementation. As above, the details of the algorithm can be\n",
    "important in practice. It can be worthwhile to experiment with\n",
    "different methods for updating $\\mu$, using a more sophisticated line\n",
    "search or trust region, and perhaps replacing the computation of the\n",
    "hessian with a quasi-Newton approximation. \n",
    "\n",
    "It has been proven that interior point methods converge relatively\n",
    "quickly for convex optimization problems. \n",
    "\n",
    "## Sequential quadratic programming\n",
    "\n",
    "Sequential quadratic programming relies on the fact that there are\n",
    "efficient methods to compute the solution to quadratic programs ---\n",
    "optimization problems with quadratic objective functions and linear\n",
    "constraints. We can then solve a more general optimization problem by\n",
    "solving a sequence of quadratic programs that approximate the original problem.\n",
    "\n",
    "Sequential quadratic programming is like a constrained version of\n",
    "Newton's method. Given a current $x$ and $\\lambda$ the new $x$ solves\n",
    "$$\n",
    "\\begin{align*}\n",
    "x_{new} \\in \\argmin_{\\tilde{x}} & f(x) + Df_x (\\tilde{x} - x) +\n",
    "\\frac{1}{2} (\\tilde{x}-x)^T (D^2 f_x + D^2 (\\lambda^T c)_x) (\\tilde{x} - x) \\\\\n",
    " \\text{ s. t. } & c(x) + Dc_{x} (\\tilde{x} - x) \\geq 0\n",
    "\\end{align*}\n",
    "$$\n",
    "and the new $\\lambda$ is set to the value of the multipliers for this\n",
    "problem. \n",
    "\n",
    "This quadratic program (an optimization problem with a quadratic\n",
    "objective function and linearc onstraints) can be solved fairly\n",
    "efficiently if $(D^2 f_x + D^2 (\\lambda^T c)_x)$ is positive\n",
    "semi-definite. \n",
    "\n",
    "!!! info Convex program solvers \n",
    "    Most for Convex program solvers are designed to accept semidefinite\n",
    "    programs instead of quadratic programs. A [quadratic program can be\n",
    "    re-written as a semidefinite\n",
    "    program](https://math.stackexchange.com/q/2256243). A solver such as\n",
    "    SCS, ECOS, or Mosek can then be used. Fortunately, `Convex.jl` will\n",
    "    automatically take care of any necessary transformation.\n",
    "    \n",
    "One could also incorporate a trust region or line search into the\n",
    "above algorithm. Here is one simple implementation."
   ]
  },
  {
   "cell_type": "code",
   "execution_count": 15,
   "metadata": {},
   "outputs": [
    {
     "ename": "LoadError",
     "evalue": "ArgumentError: Package Convex not found in current path:\n- Run `import Pkg; Pkg.add(\"Convex\")` to install the Convex package.\n",
     "output_type": "error",
     "traceback": [
      "ArgumentError: Package Convex not found in current path:\n- Run `import Pkg; Pkg.add(\"Convex\")` to install the Convex package.\n",
      "",
      "Stacktrace:",
      " [1] require(::Module, ::Symbol) at ./loading.jl:893"
     ]
    }
   ],
   "source": [
    "using Convex, ECOS"
   ]
  },
  {
   "cell_type": "code",
   "execution_count": 16,
   "metadata": {},
   "outputs": [
    {
     "data": {
      "text/plain": [
       "false"
      ]
     },
     "execution_count": 16,
     "metadata": {},
     "output_type": "execute_result"
    }
   ],
   "source": [
    "markdown && printfunc(\"sequentialquadratic\",\"constrained_optimizers.jl\")"
   ]
  },
  {
   "cell_type": "code",
   "execution_count": 17,
   "metadata": {},
   "outputs": [
    {
     "name": "stderr",
     "output_type": "stream",
     "text": [
      "┌ Info: Saved animation to \n",
      "│   fn = /home/paul/.julia/dev/AnimatedOptimization/docs/build/sqp.gif\n",
      "└ @ Plots /home/paul/.julia/packages/Plots/jIs2V/src/animation.jl:104\n"
     ]
    }
   ],
   "source": [
    "x0 = [0.0, 6.0]\n",
    "result = sequentialquadratic(f, x0, constraint; maxiter=100, verbosity=0);\n",
    "gif(result[5], \"sqp.gif\", fps=5);"
   ]
  },
  {
   "cell_type": "markdown",
   "metadata": {},
   "source": [
    "![sqp](sqp.gif)\n",
    "\n",
    "Compared to interior point methods, sequential quadratic programming\n",
    "has the advantage of not needing a feasible point to begin, and often\n",
    "taking fewer iteration. Like Newton's method, sequential quadratic\n",
    "programming has local quadratic convergence. A downside of sequential\n",
    "quadratic programming is that solving the quadratic program at each\n",
    "step can take considerably longer than solving the system of linear\n",
    "equations that interior point methods and Newton methods require.\n",
    "\n",
    "\n",
    "## SLQP active Set \n",
    "\n",
    "SLQP active set methods use a linear approximation to the optimization\n",
    "problem to decide which constraints are \"active\" (binding). In each\n",
    "iteration, a linear approximation to the original problem is first\n",
    "solved. The constraints that bind in linear approximation are then\n",
    "assumed to bind in the full problem, and we solve an equality\n",
    "constrained quadratic program to determine the next step.\n",
    "\n",
    "Byrd and Waltz (2011)[bryd2011] for more details and an extension to\n",
    "the SLQP method."
   ]
  },
  {
   "cell_type": "code",
   "execution_count": 18,
   "metadata": {},
   "outputs": [
    {
     "data": {
      "text/plain": [
       "false"
      ]
     },
     "execution_count": 18,
     "metadata": {},
     "output_type": "execute_result"
    }
   ],
   "source": [
    "markdown && printfunc(\"slqp\",\"constrained_optimizers.jl\")"
   ]
  },
  {
   "cell_type": "code",
   "execution_count": 19,
   "metadata": {},
   "outputs": [
    {
     "name": "stderr",
     "output_type": "stream",
     "text": [
      "┌ Warning: Problem status INFEASIBLE; solution may be inaccurate.\n",
      "└ @ Convex /home/paul/.julia/packages/Convex/aYxJA/src/solution.jl:252\n",
      "┌ Warning: Problem status INFEASIBLE; solution may be inaccurate.\n",
      "└ @ Convex /home/paul/.julia/packages/Convex/aYxJA/src/solution.jl:252\n",
      "┌ Warning: Problem status INFEASIBLE; solution may be inaccurate.\n",
      "└ @ Convex /home/paul/.julia/packages/Convex/aYxJA/src/solution.jl:252\n",
      "┌ Info: Saved animation to \n",
      "│   fn = /home/paul/.julia/dev/AnimatedOptimization/docs/build/slqp.gif\n",
      "└ @ Plots /home/paul/.julia/packages/Plots/jIs2V/src/animation.jl:104\n"
     ]
    }
   ],
   "source": [
    "x0 = [-1.0, 6.0]\n",
    "result = slqp(f, x0, constraint; maxiter=100, verbosity=0);\n",
    "gif(result[5], \"slqp.gif\", fps=5);"
   ]
  },
  {
   "cell_type": "markdown",
   "metadata": {},
   "source": [
    "![slqp](slqp.gif)\n",
    "\n",
    "\n",
    "## Augmented Lagrangian\n",
    "\n",
    "Augmented Lagragian methods convert a constrained minimization problem\n",
    "to an unconstrained problem by adding a penalty that increases with\n",
    "the constraint violation to the Lagrangian. \n",
    "\n",
    "## Barrier methods\n",
    "\n",
    "Barrier methods refer to adding a penalty that increases toward\n",
    "$\\infty$ as the constraints get close to violated (such as\n",
    "$\\log(c(x))$). Barrier methods are closely related to interior point\n",
    "methods. Applying Newton's method to a log-barrier penalized problem\n",
    "gives rise to something very similar to our `interiorpoint` algorithm\n",
    "above. \n",
    "\n",
    "\n",
    "# Strategies for global optimization\n",
    "\n",
    "The above algorithms will all converge to local minima. Finding a\n",
    "global minimum is generally very hard. There are a few algorithms that\n",
    "have been proven to converge to a global optimum, such a DIRECT-L in\n",
    "`NLopt`. However, these algorithms are prohibitively time-consuming\n",
    "for even moderate size problems. \n",
    "\n",
    "Randomization is a good strategy for avoiding local minima. Some\n",
    "algorithms with randomization, like simulated annealing, can be shown\n",
    "to converge to the global optimum with high probability. In practice,\n",
    "these are also often too inefficient for moderate size\n",
    "problems. \n",
    "\n",
    "A good practical approach is to use an algorithm that combines\n",
    "randomization with some model-based search. A common approach is to\n",
    "use a variant of Newton's method starting from a bunch of\n",
    "randomly chosen initial values. \n",
    "\n",
    "Algorithms that combine a linear or quadratic approximation to the\n",
    "objective function with some randomness in the search direction can\n",
    "also be useful. An example is stochastic gradient descent, which is\n",
    "often used to fit neural networks. I have had good experience with\n",
    "[CMA-ES](http://cma.gforge.inria.fr/). It worked well to estimate the\n",
    "finite mixture model in EFS (2015)[@efs2015]. \n",
    "\n",
    "Bayesian methods can also be used for optimization and will naturally\n",
    "include some randomization in their search. Hamiltonian Monte-Carlo\n",
    "methods, which incorporate gradient information in their search, are\n",
    "likely to be efficient. See\n",
    "[`DynamicHMC.jl`](https://github.com/tpapp/DynamicHMC.jl).\n",
    "\n",
    "# References\n",
    "\n",
    "\\bibliography"
   ]
  }
 ],
 "metadata": {
  "kernelspec": {
   "display_name": "Julia 1.5.2",
   "language": "julia",
   "name": "julia-1.5"
  },
  "language_info": {
   "file_extension": ".jl",
   "mimetype": "application/julia",
   "name": "julia",
   "version": "1.5.2"
  }
 },
 "nbformat": 4,
 "nbformat_minor": 2
}
